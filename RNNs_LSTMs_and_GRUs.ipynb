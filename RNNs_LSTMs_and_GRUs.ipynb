{
  "nbformat": 4,
  "nbformat_minor": 0,
  "metadata": {
    "colab": {
      "provenance": [],
      "gpuType": "T4"
    },
    "kernelspec": {
      "name": "python3",
      "display_name": "Python 3"
    },
    "language_info": {
      "name": "python"
    },
    "accelerator": "GPU"
  },
  "cells": [
    {
      "cell_type": "code",
      "execution_count": null,
      "metadata": {
        "id": "1XbBdNXtjMJs"
      },
      "outputs": [],
      "source": [
        "import tensorflow\n",
        "from tensorflow import keras\n",
        "from tensorflow.keras.datasets import mnist"
      ]
    },
    {
      "cell_type": "code",
      "source": [
        "(xtrain,ytrain),(xtest,ytest)=mnist.load_data()"
      ],
      "metadata": {
        "colab": {
          "base_uri": "https://localhost:8080/"
        },
        "id": "galBW2h0jmeV",
        "outputId": "93c97b4d-2745-4823-e961-e761012228fc"
      },
      "execution_count": null,
      "outputs": [
        {
          "output_type": "stream",
          "name": "stdout",
          "text": [
            "Downloading data from https://storage.googleapis.com/tensorflow/tf-keras-datasets/mnist.npz\n",
            "11490434/11490434 [==============================] - 0s 0us/step\n"
          ]
        }
      ]
    },
    {
      "cell_type": "code",
      "source": [
        "xtrain.shape"
      ],
      "metadata": {
        "colab": {
          "base_uri": "https://localhost:8080/"
        },
        "id": "eB4PT_gejq01",
        "outputId": "5520276a-7fd1-4fa7-d4cc-2e63494dcab6"
      },
      "execution_count": null,
      "outputs": [
        {
          "output_type": "execute_result",
          "data": {
            "text/plain": [
              "(60000, 28, 28)"
            ]
          },
          "metadata": {},
          "execution_count": 3
        }
      ]
    },
    {
      "cell_type": "code",
      "source": [
        "xtrain=xtrain.astype('float32')/255.0\n",
        "xtest=xtest.astype('float32')/255.0"
      ],
      "metadata": {
        "id": "sacrJJCBkiCQ"
      },
      "execution_count": null,
      "outputs": []
    },
    {
      "cell_type": "code",
      "source": [
        "model=keras.Sequential()\n",
        "model.add(keras.layers.Input(shape=(None,28)))\n",
        "model.add(keras.layers.SimpleRNN(512,return_sequences=True,activation='relu'))\n",
        "model.add(keras.layers.SimpleRNN(256,activation='relu'))\n",
        "model.add(keras.layers.Dense(10,activation='softmax'))"
      ],
      "metadata": {
        "id": "FGQ_vOY0ki3V"
      },
      "execution_count": null,
      "outputs": []
    },
    {
      "cell_type": "code",
      "source": [
        "model.summary()"
      ],
      "metadata": {
        "colab": {
          "base_uri": "https://localhost:8080/"
        },
        "id": "FG4XYvglk3N6",
        "outputId": "83754828-69f9-45b7-ee62-f76e319d4884"
      },
      "execution_count": null,
      "outputs": [
        {
          "output_type": "stream",
          "name": "stdout",
          "text": [
            "Model: \"sequential_2\"\n",
            "_________________________________________________________________\n",
            " Layer (type)                Output Shape              Param #   \n",
            "=================================================================\n",
            " simple_rnn_2 (SimpleRNN)    (None, None, 512)         276992    \n",
            "                                                                 \n",
            " simple_rnn_3 (SimpleRNN)    (None, 256)               196864    \n",
            "                                                                 \n",
            " dense_1 (Dense)             (None, 10)                2570      \n",
            "                                                                 \n",
            "=================================================================\n",
            "Total params: 476426 (1.82 MB)\n",
            "Trainable params: 476426 (1.82 MB)\n",
            "Non-trainable params: 0 (0.00 Byte)\n",
            "_________________________________________________________________\n"
          ]
        }
      ]
    },
    {
      "cell_type": "code",
      "source": [
        "model.compile(loss=keras.losses.SparseCategoricalCrossentropy(),metrics=['acc'],optimizer=keras.optimizers.Adam(lr=0.001))"
      ],
      "metadata": {
        "colab": {
          "base_uri": "https://localhost:8080/"
        },
        "id": "dZa2d0VTlXnQ",
        "outputId": "5b6f36a7-e5d9-4ab8-92d0-d0b625db275e"
      },
      "execution_count": null,
      "outputs": [
        {
          "output_type": "stream",
          "name": "stderr",
          "text": [
            "WARNING:absl:`lr` is deprecated in Keras optimizer, please use `learning_rate` or use the legacy optimizer, e.g.,tf.keras.optimizers.legacy.Adam.\n"
          ]
        }
      ]
    },
    {
      "cell_type": "code",
      "source": [
        "model.fit(xtrain,ytrain,epochs=5,batch_size=64)"
      ],
      "metadata": {
        "colab": {
          "base_uri": "https://localhost:8080/"
        },
        "id": "_7-3kk94ll4m",
        "outputId": "a67477f7-e6c7-4340-be49-f93be437dbfa"
      },
      "execution_count": null,
      "outputs": [
        {
          "output_type": "stream",
          "name": "stdout",
          "text": [
            "Epoch 1/5\n",
            "938/938 [==============================] - 58s 58ms/step - loss: 0.3041 - acc: 0.9053\n",
            "Epoch 2/5\n",
            "938/938 [==============================] - 49s 53ms/step - loss: 0.1280 - acc: 0.9643\n",
            "Epoch 3/5\n",
            "938/938 [==============================] - 49s 52ms/step - loss: 0.1007 - acc: 0.9724\n",
            "Epoch 4/5\n",
            "938/938 [==============================] - 50s 53ms/step - loss: 0.0921 - acc: 0.9754\n",
            "Epoch 5/5\n",
            "938/938 [==============================] - 49s 53ms/step - loss: 0.0848 - acc: 0.9772\n"
          ]
        },
        {
          "output_type": "execute_result",
          "data": {
            "text/plain": [
              "<keras.src.callbacks.History at 0x7815045f4d90>"
            ]
          },
          "metadata": {},
          "execution_count": 17
        }
      ]
    },
    {
      "cell_type": "code",
      "source": [
        "model.evaluate(xtest,ytest)"
      ],
      "metadata": {
        "colab": {
          "base_uri": "https://localhost:8080/"
        },
        "id": "vS_Diz_qmBM8",
        "outputId": "5a64c715-edf0-4ca1-e2e5-62c600104744"
      },
      "execution_count": null,
      "outputs": [
        {
          "output_type": "stream",
          "name": "stdout",
          "text": [
            "313/313 [==============================] - 3s 8ms/step - loss: 0.0993 - acc: 0.9741\n"
          ]
        },
        {
          "output_type": "execute_result",
          "data": {
            "text/plain": [
              "[0.0992862656712532, 0.9740999937057495]"
            ]
          },
          "metadata": {},
          "execution_count": 19
        }
      ]
    },
    {
      "cell_type": "markdown",
      "source": [
        "LSTM"
      ],
      "metadata": {
        "id": "2XNFufAmqH7a"
      }
    },
    {
      "cell_type": "code",
      "source": [
        "def lstm():\n",
        "\n",
        "  model=keras.Sequential()\n",
        "  model.add(keras.layers.Input(shape=(None,28)))\n",
        "  model.add(keras.layers.LSTM(512,return_sequences=True,activation='tanh'))\n",
        "  model.add(keras.layers.LSTM(256,activation='tanh'))\n",
        "  model.add(keras.layers.Dense(10,activation='softmax'))\n",
        "  model.summary()\n",
        "  model.compile(loss=keras.losses.SparseCategoricalCrossentropy(),metrics=['acc'],optimizer=keras.optimizers.Adam(lr=0.001))\n",
        "  return model\n",
        "\n",
        "lstm=lstm()"
      ],
      "metadata": {
        "colab": {
          "base_uri": "https://localhost:8080/"
        },
        "id": "fHS4VxATlsqj",
        "outputId": "047e7725-ceb1-43fd-d25b-5b0da17e50ab"
      },
      "execution_count": null,
      "outputs": [
        {
          "output_type": "stream",
          "name": "stdout",
          "text": [
            "Model: \"sequential_4\"\n",
            "_________________________________________________________________\n",
            " Layer (type)                Output Shape              Param #   \n",
            "=================================================================\n",
            " lstm (LSTM)                 (None, None, 512)         1107968   \n",
            "                                                                 \n",
            " lstm_1 (LSTM)               (None, 256)               787456    \n",
            "                                                                 \n",
            " dense_3 (Dense)             (None, 10)                2570      \n",
            "                                                                 \n",
            "=================================================================\n",
            "Total params: 1897994 (7.24 MB)\n",
            "Trainable params: 1897994 (7.24 MB)\n",
            "Non-trainable params: 0 (0.00 Byte)\n",
            "_________________________________________________________________\n"
          ]
        },
        {
          "output_type": "stream",
          "name": "stderr",
          "text": [
            "WARNING:absl:`lr` is deprecated in Keras optimizer, please use `learning_rate` or use the legacy optimizer, e.g.,tf.keras.optimizers.legacy.Adam.\n"
          ]
        }
      ]
    },
    {
      "cell_type": "code",
      "source": [
        "lstm.fit(xtrain,ytrain,epochs=5,batch_size=64)"
      ],
      "metadata": {
        "colab": {
          "base_uri": "https://localhost:8080/"
        },
        "id": "U6JTlnxwp_j9",
        "outputId": "540b3a58-7ca5-42c3-c862-fdb94bf887a9"
      },
      "execution_count": null,
      "outputs": [
        {
          "output_type": "stream",
          "name": "stdout",
          "text": [
            "Epoch 1/5\n",
            "938/938 [==============================] - 18s 14ms/step - loss: 0.2970 - acc: 0.9041\n",
            "Epoch 2/5\n",
            "938/938 [==============================] - 13s 14ms/step - loss: 0.0814 - acc: 0.9746\n",
            "Epoch 3/5\n",
            "938/938 [==============================] - 14s 15ms/step - loss: 0.0563 - acc: 0.9828\n",
            "Epoch 4/5\n",
            "938/938 [==============================] - 11s 12ms/step - loss: 0.0426 - acc: 0.9871\n",
            "Epoch 5/5\n",
            "938/938 [==============================] - 12s 13ms/step - loss: 0.0367 - acc: 0.9886\n"
          ]
        },
        {
          "output_type": "execute_result",
          "data": {
            "text/plain": [
              "<keras.src.callbacks.History at 0x7815001865f0>"
            ]
          },
          "metadata": {},
          "execution_count": 24
        }
      ]
    },
    {
      "cell_type": "code",
      "source": [
        "lstm.evaluate(xtest,ytest)"
      ],
      "metadata": {
        "colab": {
          "base_uri": "https://localhost:8080/"
        },
        "id": "nutgvkNYqhD7",
        "outputId": "2bab4ead-0c9e-47bf-e780-4ac33e31c05b"
      },
      "execution_count": null,
      "outputs": [
        {
          "output_type": "stream",
          "name": "stdout",
          "text": [
            "313/313 [==============================] - 3s 8ms/step - loss: 0.0345 - acc: 0.9883\n"
          ]
        },
        {
          "output_type": "execute_result",
          "data": {
            "text/plain": [
              "[0.034492917358875275, 0.9883000254631042]"
            ]
          },
          "metadata": {},
          "execution_count": 25
        }
      ]
    },
    {
      "cell_type": "markdown",
      "source": [
        "GRU"
      ],
      "metadata": {
        "id": "9j_UneVBqthQ"
      }
    },
    {
      "cell_type": "code",
      "source": [
        "def gru():\n",
        "\n",
        "  model=keras.Sequential()\n",
        "  model.add(keras.layers.Input(shape=(None,28)))\n",
        "  model.add(keras.layers.GRU(512,return_sequences=True,activation='relu'))\n",
        "  model.add(keras.layers.GRU(256,activation='relu'))\n",
        "  model.add(keras.layers.Dense(10,activation='softmax'))\n",
        "  model.summary()\n",
        "  model.compile(loss=keras.losses.SparseCategoricalCrossentropy(),metrics=['acc'],optimizer=keras.optimizers.Adam(lr=0.001))\n",
        "  return model\n",
        "\n",
        "gru=gru()"
      ],
      "metadata": {
        "colab": {
          "base_uri": "https://localhost:8080/"
        },
        "id": "yhdrWPfHqF_V",
        "outputId": "6db733bd-c7ed-4813-a132-2d4615abc919"
      },
      "execution_count": null,
      "outputs": [
        {
          "output_type": "stream",
          "name": "stderr",
          "text": [
            "WARNING:tensorflow:Layer gru will not use cuDNN kernels since it doesn't meet the criteria. It will use a generic GPU kernel as fallback when running on GPU.\n",
            "WARNING:tensorflow:Layer gru_1 will not use cuDNN kernels since it doesn't meet the criteria. It will use a generic GPU kernel as fallback when running on GPU.\n"
          ]
        },
        {
          "output_type": "stream",
          "name": "stdout",
          "text": [
            "Model: \"sequential_5\"\n",
            "_________________________________________________________________\n",
            " Layer (type)                Output Shape              Param #   \n",
            "=================================================================\n",
            " gru (GRU)                   (None, None, 512)         832512    \n",
            "                                                                 \n",
            " gru_1 (GRU)                 (None, 256)               591360    \n",
            "                                                                 \n",
            " dense_4 (Dense)             (None, 10)                2570      \n",
            "                                                                 \n",
            "=================================================================\n",
            "Total params: 1426442 (5.44 MB)\n",
            "Trainable params: 1426442 (5.44 MB)\n",
            "Non-trainable params: 0 (0.00 Byte)\n",
            "_________________________________________________________________\n"
          ]
        },
        {
          "output_type": "stream",
          "name": "stderr",
          "text": [
            "WARNING:absl:`lr` is deprecated in Keras optimizer, please use `learning_rate` or use the legacy optimizer, e.g.,tf.keras.optimizers.legacy.Adam.\n"
          ]
        }
      ]
    },
    {
      "cell_type": "code",
      "source": [
        "gru.fit(xtrain,ytrain,epochs=5,batch_size=64)"
      ],
      "metadata": {
        "colab": {
          "base_uri": "https://localhost:8080/"
        },
        "id": "4xiP1GvRqnTC",
        "outputId": "5c41c46b-5df8-4c40-ca58-f43bac5f2078"
      },
      "execution_count": null,
      "outputs": [
        {
          "output_type": "stream",
          "name": "stdout",
          "text": [
            "Epoch 1/5\n",
            "938/938 [==============================] - 153s 159ms/step - loss: 0.3081 - acc: 0.8960\n",
            "Epoch 2/5\n",
            "938/938 [==============================] - 127s 136ms/step - loss: 0.0696 - acc: 0.9781\n",
            "Epoch 3/5\n",
            "938/938 [==============================] - 130s 138ms/step - loss: 0.0478 - acc: 0.9854\n",
            "Epoch 4/5\n",
            "938/938 [==============================] - 125s 133ms/step - loss: 0.0386 - acc: 0.9880\n",
            "Epoch 5/5\n",
            "938/938 [==============================] - 125s 133ms/step - loss: 0.0322 - acc: 0.9902\n"
          ]
        },
        {
          "output_type": "execute_result",
          "data": {
            "text/plain": [
              "<keras.src.callbacks.History at 0x781500ff0160>"
            ]
          },
          "metadata": {},
          "execution_count": 27
        }
      ]
    },
    {
      "cell_type": "code",
      "source": [
        "gru.evaluate(xtest,ytest)"
      ],
      "metadata": {
        "colab": {
          "base_uri": "https://localhost:8080/"
        },
        "id": "2_iwkGMaqo3v",
        "outputId": "807272de-4d0b-416b-c130-253e3b8b8927"
      },
      "execution_count": null,
      "outputs": [
        {
          "output_type": "stream",
          "name": "stdout",
          "text": [
            "313/313 [==============================] - 5s 14ms/step - loss: 0.0359 - acc: 0.9877\n"
          ]
        },
        {
          "output_type": "execute_result",
          "data": {
            "text/plain": [
              "[0.03589397296309471, 0.9876999855041504]"
            ]
          },
          "metadata": {},
          "execution_count": 28
        }
      ]
    },
    {
      "cell_type": "markdown",
      "source": [
        "BiGRU"
      ],
      "metadata": {
        "id": "xg_9ODCDqwLD"
      }
    },
    {
      "cell_type": "code",
      "source": [
        "def bi_gru():\n",
        "\n",
        "  model=keras.Sequential()\n",
        "  model.add(keras.layers.Input(shape=(None,28)))\n",
        "  model.add(keras.layers.Bidirectional(keras.layers.GRU(512,return_sequences=True,activation='relu')))\n",
        "  model.add(keras.layers.Bidirectional(keras.layers.GRU(256,activation='relu')))\n",
        "  model.add(keras.layers.Dense(10,activation='softmax'))\n",
        "  model.summary()\n",
        "  model.compile(loss=keras.losses.SparseCategoricalCrossentropy(),metrics=['acc'],optimizer=keras.optimizers.Adam(lr=0.001))\n",
        "  return model\n",
        "\n",
        "bi_gru=bi_gru()"
      ],
      "metadata": {
        "colab": {
          "base_uri": "https://localhost:8080/"
        },
        "id": "QoBtP5i9qq3n",
        "outputId": "b01d56ac-39c2-4f90-faca-f816725924ca"
      },
      "execution_count": null,
      "outputs": [
        {
          "output_type": "stream",
          "name": "stderr",
          "text": [
            "WARNING:tensorflow:Layer gru_3 will not use cuDNN kernels since it doesn't meet the criteria. It will use a generic GPU kernel as fallback when running on GPU.\n",
            "WARNING:tensorflow:Layer gru_3 will not use cuDNN kernels since it doesn't meet the criteria. It will use a generic GPU kernel as fallback when running on GPU.\n",
            "WARNING:tensorflow:Layer gru_3 will not use cuDNN kernels since it doesn't meet the criteria. It will use a generic GPU kernel as fallback when running on GPU.\n",
            "WARNING:tensorflow:Layer gru_4 will not use cuDNN kernels since it doesn't meet the criteria. It will use a generic GPU kernel as fallback when running on GPU.\n",
            "WARNING:tensorflow:Layer gru_4 will not use cuDNN kernels since it doesn't meet the criteria. It will use a generic GPU kernel as fallback when running on GPU.\n",
            "WARNING:tensorflow:Layer gru_4 will not use cuDNN kernels since it doesn't meet the criteria. It will use a generic GPU kernel as fallback when running on GPU.\n"
          ]
        },
        {
          "output_type": "stream",
          "name": "stdout",
          "text": [
            "Model: \"sequential_7\"\n",
            "_________________________________________________________________\n",
            " Layer (type)                Output Shape              Param #   \n",
            "=================================================================\n",
            " bidirectional_1 (Bidirecti  (None, None, 1024)        1665024   \n",
            " onal)                                                           \n",
            "                                                                 \n",
            " bidirectional_2 (Bidirecti  (None, 512)               1969152   \n",
            " onal)                                                           \n",
            "                                                                 \n",
            " dense_5 (Dense)             (None, 10)                5130      \n",
            "                                                                 \n",
            "=================================================================\n",
            "Total params: 3639306 (13.88 MB)\n",
            "Trainable params: 3639306 (13.88 MB)\n",
            "Non-trainable params: 0 (0.00 Byte)\n",
            "_________________________________________________________________\n"
          ]
        },
        {
          "output_type": "stream",
          "name": "stderr",
          "text": [
            "WARNING:absl:`lr` is deprecated in Keras optimizer, please use `learning_rate` or use the legacy optimizer, e.g.,tf.keras.optimizers.legacy.Adam.\n"
          ]
        }
      ]
    },
    {
      "cell_type": "code",
      "source": [
        "bi_gru.fit(xtrain,ytrain,epochs=5,batch_size=64)"
      ],
      "metadata": {
        "colab": {
          "base_uri": "https://localhost:8080/"
        },
        "id": "m-SfVmkHq_Kc",
        "outputId": "7341a361-7c6b-4fe1-dabb-64f618f9f56a"
      },
      "execution_count": null,
      "outputs": [
        {
          "output_type": "stream",
          "name": "stdout",
          "text": [
            "Epoch 1/5\n",
            "938/938 [==============================] - 300s 260ms/step - loss: 0.2401 - acc: 0.9219\n",
            "Epoch 2/5\n",
            " 97/938 [==>...........................] - ETA: 3:45 - loss: 0.0735 - acc: 0.9774"
          ]
        }
      ]
    },
    {
      "cell_type": "code",
      "source": [],
      "metadata": {
        "id": "VZqmL25XtpVv"
      },
      "execution_count": null,
      "outputs": []
    }
  ]
}