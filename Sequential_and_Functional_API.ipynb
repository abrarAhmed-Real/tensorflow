{
  "nbformat": 4,
  "nbformat_minor": 0,
  "metadata": {
    "colab": {
      "provenance": []
    },
    "kernelspec": {
      "name": "python3",
      "display_name": "Python 3"
    },
    "language_info": {
      "name": "python"
    }
  },
  "cells": [
    {
      "cell_type": "code",
      "execution_count": null,
      "metadata": {
        "id": "XoVMWxoC_ZaG"
      },
      "outputs": [],
      "source": [
        "import tensorflow\n",
        "from tensorflow import keras\n",
        "from tensorflow.keras.datasets import mnist"
      ]
    },
    {
      "cell_type": "markdown",
      "source": [
        "loading the data"
      ],
      "metadata": {
        "id": "EaZdGD5OAzK8"
      }
    },
    {
      "cell_type": "code",
      "source": [
        "(X_train,y_train), (X_test,y_test)=mnist.load_data()"
      ],
      "metadata": {
        "colab": {
          "base_uri": "https://localhost:8080/"
        },
        "id": "MdWGX5ih_1Iw",
        "outputId": "b0ff1b02-c7e4-4058-fd3e-55e7a08c47a5"
      },
      "execution_count": null,
      "outputs": [
        {
          "output_type": "stream",
          "name": "stdout",
          "text": [
            "Downloading data from https://storage.googleapis.com/tensorflow/tf-keras-datasets/mnist.npz\n",
            "11490434/11490434 [==============================] - 0s 0us/step\n"
          ]
        }
      ]
    },
    {
      "cell_type": "code",
      "source": [
        "X_train.shape,X_test.shape"
      ],
      "metadata": {
        "colab": {
          "base_uri": "https://localhost:8080/"
        },
        "id": "eYJonKcXADOP",
        "outputId": "cef9f391-cd74-4790-ad59-82717e82500d"
      },
      "execution_count": null,
      "outputs": [
        {
          "output_type": "execute_result",
          "data": {
            "text/plain": [
              "((60000, 28, 28), (10000, 28, 28))"
            ]
          },
          "metadata": {},
          "execution_count": 4
        }
      ]
    },
    {
      "cell_type": "markdown",
      "source": [
        "flatteing the arrays"
      ],
      "metadata": {
        "id": "Xv8cw8SlAxHq"
      }
    },
    {
      "cell_type": "code",
      "source": [
        "X_train=X_train.reshape(-1,28*28).astype('float32')/255.0"
      ],
      "metadata": {
        "id": "G-5VtgytAF5Q"
      },
      "execution_count": null,
      "outputs": []
    },
    {
      "cell_type": "code",
      "source": [
        "X_test=X_test.reshape(-1,28*28).astype('float32')/255.0"
      ],
      "metadata": {
        "id": "V34htlNZAnH6"
      },
      "execution_count": null,
      "outputs": []
    },
    {
      "cell_type": "code",
      "source": [
        "X_train.shape , X_test.shape"
      ],
      "metadata": {
        "colab": {
          "base_uri": "https://localhost:8080/"
        },
        "id": "0E496zcIArRv",
        "outputId": "74093c49-d2f8-42db-a4b2-88af041d7eaf"
      },
      "execution_count": null,
      "outputs": [
        {
          "output_type": "execute_result",
          "data": {
            "text/plain": [
              "((60000, 784), (10000, 784))"
            ]
          },
          "metadata": {},
          "execution_count": 7
        }
      ]
    },
    {
      "cell_type": "markdown",
      "source": [
        "creating the sequential model"
      ],
      "metadata": {
        "id": "jFy5nti3BBBB"
      }
    },
    {
      "cell_type": "code",
      "source": [
        "from tensorflow.keras.models import Sequential\n",
        "\n",
        "model=Sequential(\n",
        "    [\n",
        "        tensorflow.keras.layers.Dense(516,activation='relu'),\n",
        "        tensorflow.keras.layers.Dense(256,activation='relu'),\n",
        "        tensorflow.keras.layers.Dense(10,activation='softmax'),\n",
        "\n",
        "    ]\n",
        "\n",
        ")\n"
      ],
      "metadata": {
        "id": "XNpRG4AnAvFv"
      },
      "execution_count": null,
      "outputs": []
    },
    {
      "cell_type": "code",
      "source": [
        "model.summary()"
      ],
      "metadata": {
        "colab": {
          "base_uri": "https://localhost:8080/"
        },
        "id": "VnbwC_xnGi8_",
        "outputId": "653eb74b-a3b0-451a-c9fd-7ce67db6b1db"
      },
      "execution_count": null,
      "outputs": [
        {
          "output_type": "stream",
          "name": "stdout",
          "text": [
            "Model: \"sequential\"\n",
            "_________________________________________________________________\n",
            " Layer (type)                Output Shape              Param #   \n",
            "=================================================================\n",
            " dense (Dense)               (None, 516)               405060    \n",
            "                                                                 \n",
            " dense_1 (Dense)             (None, 256)               132352    \n",
            "                                                                 \n",
            " dense_2 (Dense)             (None, 10)                2570      \n",
            "                                                                 \n",
            "=================================================================\n",
            "Total params: 539982 (2.06 MB)\n",
            "Trainable params: 539982 (2.06 MB)\n",
            "Non-trainable params: 0 (0.00 Byte)\n",
            "_________________________________________________________________\n"
          ]
        }
      ]
    },
    {
      "cell_type": "code",
      "source": [
        "model.compile(loss=keras.losses.SparseCategoricalCrossentropy(from_logits=True),optimizer=keras.optimizers.Adam(lr=0.001),metrics=['acc'])"
      ],
      "metadata": {
        "colab": {
          "base_uri": "https://localhost:8080/"
        },
        "id": "4rie0tKpBI_E",
        "outputId": "d1268682-8ee5-4abe-8313-5d9efc91588b"
      },
      "execution_count": null,
      "outputs": [
        {
          "output_type": "stream",
          "name": "stderr",
          "text": [
            "WARNING:absl:`lr` is deprecated in Keras optimizer, please use `learning_rate` or use the legacy optimizer, e.g.,tf.keras.optimizers.legacy.Adam.\n"
          ]
        }
      ]
    },
    {
      "cell_type": "code",
      "source": [
        "model.fit(X_train,y_train,epochs=10,verbose=1,batch_size=32)"
      ],
      "metadata": {
        "colab": {
          "base_uri": "https://localhost:8080/"
        },
        "id": "mk-_TbjsCPsn",
        "outputId": "44785510-91b0-4d96-c2ce-8250044fd5b0"
      },
      "execution_count": null,
      "outputs": [
        {
          "output_type": "stream",
          "name": "stdout",
          "text": [
            "Epoch 1/10\n"
          ]
        },
        {
          "output_type": "stream",
          "name": "stderr",
          "text": [
            "/usr/local/lib/python3.10/dist-packages/keras/src/backend.py:5714: UserWarning: \"`sparse_categorical_crossentropy` received `from_logits=True`, but the `output` argument was produced by a Softmax activation and thus does not represent logits. Was this intended?\n",
            "  output, from_logits = _get_logits(\n"
          ]
        },
        {
          "output_type": "stream",
          "name": "stdout",
          "text": [
            "1875/1875 [==============================] - 18s 9ms/step - loss: 0.1857 - acc: 0.9434\n",
            "Epoch 2/10\n",
            "1875/1875 [==============================] - 16s 9ms/step - loss: 0.0789 - acc: 0.9755\n",
            "Epoch 3/10\n",
            "1875/1875 [==============================] - 18s 9ms/step - loss: 0.0532 - acc: 0.9832\n",
            "Epoch 4/10\n",
            "1875/1875 [==============================] - 17s 9ms/step - loss: 0.0415 - acc: 0.9869\n",
            "Epoch 5/10\n",
            "1875/1875 [==============================] - 16s 9ms/step - loss: 0.0326 - acc: 0.9896\n",
            "Epoch 6/10\n",
            "1875/1875 [==============================] - 16s 9ms/step - loss: 0.0284 - acc: 0.9909\n",
            "Epoch 7/10\n",
            "1875/1875 [==============================] - 16s 9ms/step - loss: 0.0238 - acc: 0.9925\n",
            "Epoch 8/10\n",
            "1875/1875 [==============================] - 17s 9ms/step - loss: 0.0198 - acc: 0.9938\n",
            "Epoch 9/10\n",
            "1875/1875 [==============================] - 16s 8ms/step - loss: 0.0196 - acc: 0.9937\n",
            "Epoch 10/10\n",
            "1875/1875 [==============================] - 16s 9ms/step - loss: 0.0180 - acc: 0.9940\n"
          ]
        },
        {
          "output_type": "execute_result",
          "data": {
            "text/plain": [
              "<keras.src.callbacks.History at 0x7f45a38ca620>"
            ]
          },
          "metadata": {},
          "execution_count": 14
        }
      ]
    },
    {
      "cell_type": "code",
      "source": [
        "model.evaluate(X_test,y_test,batch_size=32,verbose=2)"
      ],
      "metadata": {
        "colab": {
          "base_uri": "https://localhost:8080/"
        },
        "id": "bDSXQo1sCag7",
        "outputId": "bcbd7904-0a94-4cf6-8fc5-561866da25df"
      },
      "execution_count": null,
      "outputs": [
        {
          "output_type": "stream",
          "name": "stderr",
          "text": [
            "/usr/local/lib/python3.10/dist-packages/keras/src/backend.py:5714: UserWarning: \"`sparse_categorical_crossentropy` received `from_logits=True`, but the `output` argument was produced by a Softmax activation and thus does not represent logits. Was this intended?\n",
            "  output, from_logits = _get_logits(\n"
          ]
        },
        {
          "output_type": "stream",
          "name": "stdout",
          "text": [
            "313/313 - 1s - loss: 0.0856 - acc: 0.9802 - 1s/epoch - 3ms/step\n"
          ]
        },
        {
          "output_type": "execute_result",
          "data": {
            "text/plain": [
              "[0.08555857837200165, 0.9801999926567078]"
            ]
          },
          "metadata": {},
          "execution_count": 16
        }
      ]
    },
    {
      "cell_type": "markdown",
      "source": [
        "the same model using Functional API"
      ],
      "metadata": {
        "id": "DLOSYPnFGwMI"
      }
    },
    {
      "cell_type": "code",
      "source": [
        "28*28"
      ],
      "metadata": {
        "colab": {
          "base_uri": "https://localhost:8080/"
        },
        "id": "VTc-8MsuG91n",
        "outputId": "d6961828-5e4e-4119-9d3f-a5453a059f4e"
      },
      "execution_count": null,
      "outputs": [
        {
          "output_type": "execute_result",
          "data": {
            "text/plain": [
              "784"
            ]
          },
          "metadata": {},
          "execution_count": 18
        }
      ]
    },
    {
      "cell_type": "code",
      "source": [
        "inputs=keras.Input(shape=784)\n",
        "x=keras.layers.Dense(516,activation='relu')(inputs)\n",
        "x=keras.layers.Dense(256,activation='relu')(x)\n",
        "outputs=keras.layers.Dense(10,activation='softmax')(x)\n",
        "model=keras.Model(inputs=inputs,outputs=outputs)"
      ],
      "metadata": {
        "id": "GlIkyyrED_MO"
      },
      "execution_count": null,
      "outputs": []
    },
    {
      "cell_type": "code",
      "source": [
        "model.summary()"
      ],
      "metadata": {
        "colab": {
          "base_uri": "https://localhost:8080/"
        },
        "id": "FBqckjlnHHiZ",
        "outputId": "3f64a41a-43e9-4491-b27c-a4f129cc3221"
      },
      "execution_count": null,
      "outputs": [
        {
          "output_type": "stream",
          "name": "stdout",
          "text": [
            "Model: \"model_1\"\n",
            "_________________________________________________________________\n",
            " Layer (type)                Output Shape              Param #   \n",
            "=================================================================\n",
            " input_4 (InputLayer)        [(None, 784)]             0         \n",
            "                                                                 \n",
            " dense_9 (Dense)             (None, 516)               405060    \n",
            "                                                                 \n",
            " dense_10 (Dense)            (None, 256)               132352    \n",
            "                                                                 \n",
            " dense_11 (Dense)            (None, 10)                2570      \n",
            "                                                                 \n",
            "=================================================================\n",
            "Total params: 539982 (2.06 MB)\n",
            "Trainable params: 539982 (2.06 MB)\n",
            "Non-trainable params: 0 (0.00 Byte)\n",
            "_________________________________________________________________\n"
          ]
        }
      ]
    },
    {
      "cell_type": "code",
      "source": [
        "model.compile(loss=keras.losses.SparseCategoricalCrossentropy(from_logits=True),optimizer=keras.optimizers.Adam(lr=0.001),metrics=['acc'])"
      ],
      "metadata": {
        "colab": {
          "base_uri": "https://localhost:8080/"
        },
        "id": "gEp0PCl6IPbd",
        "outputId": "ff9e5651-9965-4a60-ef45-514806a280fe"
      },
      "execution_count": null,
      "outputs": [
        {
          "output_type": "stream",
          "name": "stderr",
          "text": [
            "WARNING:absl:`lr` is deprecated in Keras optimizer, please use `learning_rate` or use the legacy optimizer, e.g.,tf.keras.optimizers.legacy.Adam.\n"
          ]
        }
      ]
    },
    {
      "cell_type": "code",
      "source": [
        "model.fit(X_train,y_train,epochs=10,verbose=1,batch_size=32)"
      ],
      "metadata": {
        "colab": {
          "base_uri": "https://localhost:8080/"
        },
        "id": "a6bc1tmEITMK",
        "outputId": "9a3d0999-e13f-41f6-abd6-2af8c6aa2f75"
      },
      "execution_count": null,
      "outputs": [
        {
          "output_type": "stream",
          "name": "stdout",
          "text": [
            "Epoch 1/10\n"
          ]
        },
        {
          "output_type": "stream",
          "name": "stderr",
          "text": [
            "/usr/local/lib/python3.10/dist-packages/keras/src/backend.py:5714: UserWarning: \"`sparse_categorical_crossentropy` received `from_logits=True`, but the `output` argument was produced by a Softmax activation and thus does not represent logits. Was this intended?\n",
            "  output, from_logits = _get_logits(\n"
          ]
        },
        {
          "output_type": "stream",
          "name": "stdout",
          "text": [
            "1875/1875 [==============================] - 17s 9ms/step - loss: 0.1893 - acc: 0.9433\n",
            "Epoch 2/10\n",
            "1875/1875 [==============================] - 16s 9ms/step - loss: 0.0803 - acc: 0.9748\n",
            "Epoch 3/10\n",
            "1875/1875 [==============================] - 18s 10ms/step - loss: 0.0537 - acc: 0.9827\n",
            "Epoch 4/10\n",
            "1875/1875 [==============================] - 15s 8ms/step - loss: 0.0421 - acc: 0.9865\n",
            "Epoch 5/10\n",
            "1875/1875 [==============================] - 15s 8ms/step - loss: 0.0337 - acc: 0.9893\n",
            "Epoch 6/10\n",
            "1875/1875 [==============================] - 16s 8ms/step - loss: 0.0273 - acc: 0.9915\n",
            "Epoch 7/10\n",
            "1875/1875 [==============================] - 17s 9ms/step - loss: 0.0233 - acc: 0.9922\n",
            "Epoch 8/10\n",
            "1875/1875 [==============================] - 16s 8ms/step - loss: 0.0234 - acc: 0.9927\n",
            "Epoch 9/10\n",
            "1875/1875 [==============================] - 16s 8ms/step - loss: 0.0162 - acc: 0.9947\n",
            "Epoch 10/10\n",
            "1875/1875 [==============================] - 17s 9ms/step - loss: 0.0175 - acc: 0.9944\n"
          ]
        },
        {
          "output_type": "execute_result",
          "data": {
            "text/plain": [
              "<keras.src.callbacks.History at 0x7f45b19de650>"
            ]
          },
          "metadata": {},
          "execution_count": 26
        }
      ]
    },
    {
      "cell_type": "code",
      "source": [
        "model.evaluate(X_test,y_test,batch_size=32,verbose=2)"
      ],
      "metadata": {
        "colab": {
          "base_uri": "https://localhost:8080/"
        },
        "id": "T4KBJSJhIZ0M",
        "outputId": "54b9a689-f383-4533-e652-6f38985cc519"
      },
      "execution_count": null,
      "outputs": [
        {
          "output_type": "stream",
          "name": "stdout",
          "text": [
            "313/313 - 1s - loss: 0.1031 - acc: 0.9802 - 1s/epoch - 5ms/step\n"
          ]
        },
        {
          "output_type": "execute_result",
          "data": {
            "text/plain": [
              "[0.10311883687973022, 0.9801999926567078]"
            ]
          },
          "metadata": {},
          "execution_count": 27
        }
      ]
    },
    {
      "cell_type": "code",
      "source": [],
      "metadata": {
        "id": "1QQb7rImIiBs"
      },
      "execution_count": null,
      "outputs": []
    }
  ]
}